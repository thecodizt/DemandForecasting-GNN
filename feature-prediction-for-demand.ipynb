{
 "cells": [
  {
   "cell_type": "code",
   "execution_count": 1,
   "id": "32a577fb-e440-4282-aae4-52183f69f8b3",
   "metadata": {},
   "outputs": [],
   "source": [
    "import pandas as pd\n",
    "import numpy as np\n",
    "from sklearn.model_selection import train_test_split\n",
    "from sklearn.multioutput import MultiOutputRegressor\n",
    "from sklearn.ensemble import RandomForestRegressor\n",
    "from sklearn.metrics import mean_squared_error\n",
    "import matplotlib.pyplot as plt"
   ]
  },
  {
   "cell_type": "code",
   "execution_count": 2,
   "id": "95ab12cc-2e5e-4dbf-98d1-a4d0505466aa",
   "metadata": {},
   "outputs": [],
   "source": [
    "df = pd.read_csv(\"nodes.csv\")\n",
    "df = df.drop(\"Unnamed: 0\", axis=1)\n",
    "df_pivoted = df.pivot_table(index=['timestamp', 'node'], columns='feature', values='value')\n",
    "df_pivoted.columns = ['Feature0', 'Feature1', 'Feature2', 'Feature3']\n",
    "df_final = df_pivoted.reset_index()\n",
    "df_final = df_final.drop(['timestamp', 'node'],axis=1)"
   ]
  },
  {
   "cell_type": "code",
   "execution_count": 3,
   "id": "987894e2-adf9-4076-92cf-bf6e61e095bf",
   "metadata": {},
   "outputs": [],
   "source": [
    "X = df_final[['Feature3']]\n",
    "y = df_final[['Feature0', 'Feature1', 'Feature2']]\n",
    "\n",
    "X_train, X_test, y_train, y_test = train_test_split(X, y, test_size=0.3, random_state=42)"
   ]
  },
  {
   "cell_type": "code",
   "execution_count": 4,
   "id": "aad035e8-bb2a-4230-957d-92f8fb7ce8e1",
   "metadata": {},
   "outputs": [
    {
     "name": "stdout",
     "output_type": "stream",
     "text": [
      "Training MSE: 0.01211529297608951\n",
      "Testing MSE: 0.09121461348538122\n"
     ]
    }
   ],
   "source": [
    "model = MultiOutputRegressor(RandomForestRegressor(n_estimators = 300,random_state=42))\n",
    "model.fit(X_train, y_train)\n",
    "\n",
    "# Predictions\n",
    "y_train_pred = model.predict(X_train)\n",
    "y_test_pred = model.predict(X_test)\n",
    "\n",
    "# Evaluate the model\n",
    "train_mse = mean_squared_error(y_train, y_train_pred)\n",
    "test_mse = mean_squared_error(y_test, y_test_pred)\n",
    "\n",
    "print(f'Training MSE: {train_mse}')\n",
    "print(f'Testing MSE: {test_mse}')"
   ]
  },
  {
   "cell_type": "code",
   "execution_count": 5,
   "id": "576200aa-8ab6-4aa2-9623-043c4ac82c53",
   "metadata": {},
   "outputs": [
    {
     "name": "stdout",
     "output_type": "stream",
     "text": [
      "[[0.66289643 0.56597966 0.50016763]\n",
      " [0.45540718 0.48903806 0.41439651]\n",
      " [0.44207399 0.32746643 0.7761009 ]\n",
      " ...\n",
      " [0.6761643  0.38392215 0.49894506]\n",
      " [0.47999628 0.23788819 0.15202685]\n",
      " [0.53726518 0.26239938 0.24736653]]\n",
      "[      Feature0  Feature1  Feature2\n",
      "1447  0.445096  0.269808  0.713312\n",
      "1114  0.306864  0.841292  0.637170\n",
      "1064  0.386003  0.602291  0.818530\n",
      "2287  0.743285  0.379226  0.446170\n",
      "1537  0.483352  0.484818  0.444191\n",
      "...        ...       ...       ...\n",
      "427   0.444806  0.337360  0.455317\n",
      "105  -0.027288  0.603666  0.673054\n",
      "2044  0.805178  0.753384  0.603866\n",
      "121   0.285652  0.007341  0.038768\n",
      "821   0.449801  0.146336  0.273443\n",
      "\n",
      "[750 rows x 3 columns]]\n"
     ]
    }
   ],
   "source": [
    "print(y_test_pred)\n",
    "print([y_test])"
   ]
  },
  {
   "cell_type": "code",
   "execution_count": 6,
   "id": "f0a84a30-b1e3-4009-8309-2630cc989f87",
   "metadata": {},
   "outputs": [],
   "source": [
    "import pandas as pd\n",
    "import numpy as np\n",
    "from sklearn.model_selection import train_test_split, GridSearchCV, cross_val_score\n",
    "from sklearn.multioutput import MultiOutputRegressor\n",
    "from sklearn.ensemble import RandomForestRegressor, GradientBoostingRegressor\n",
    "from sklearn.svm import SVR\n",
    "from sklearn.metrics import mean_squared_error\n",
    "from sklearn.preprocessing import PolynomialFeatures, StandardScaler\n",
    "import matplotlib.pyplot as plt\n"
   ]
  },
  {
   "cell_type": "code",
   "execution_count": 7,
   "id": "99d24d16-3fdd-4d8f-a74e-d01e5a3618aa",
   "metadata": {},
   "outputs": [],
   "source": [
    "poly = PolynomialFeatures(degree=2, include_bias=False)\n",
    "X_poly = poly.fit_transform(df_final[['Feature3']])\n",
    "\n",
    "X_train, X_test, y_train, y_test = train_test_split(X_poly, df_final[['Feature0', 'Feature1', 'Feature2']], test_size=0.3, random_state=42)\n"
   ]
  },
  {
   "cell_type": "code",
   "execution_count": 8,
   "id": "97b688fd-16dd-437a-8437-f4ffd4b107be",
   "metadata": {},
   "outputs": [],
   "source": [
    "param_grid_rf = {\n",
    "    'estimator__n_estimators': [100, 200,30],\n",
    "    'estimator__max_depth': [None, 10, 20,30],\n",
    "    'estimator__min_samples_split': [2, 5,7]\n",
    "}\n",
    "\n",
    "param_grid_gb = {\n",
    "    'estimator__n_estimators': [100, 200,300,400],\n",
    "    'estimator__learning_rate': [0.01, 0.1, 0.2,0.001],\n",
    "    'estimator__max_depth': [3, 5, 10]\n",
    "}\n",
    "\n",
    "param_grid_svr = {\n",
    "    'estimator__C': [0.1, 1, 10,0.001],\n",
    "    'estimator__epsilon': [0.01, 0.1, 0.2]\n",
    "}"
   ]
  },
  {
   "cell_type": "code",
   "execution_count": 9,
   "id": "bffcf234-6759-458d-9055-06c54296a03a",
   "metadata": {},
   "outputs": [],
   "source": [
    "models = [\n",
    "    ('RandomForest', RandomForestRegressor(random_state=42), param_grid_rf),\n",
    "    ('GradientBoosting', GradientBoostingRegressor(random_state=42), param_grid_gb),\n",
    "    ('SVR', SVR(), param_grid_svr)\n",
    "]\n",
    "\n",
    "best_model = None\n",
    "best_score = float('inf')\n",
    "for name, model, param_grid in models:\n",
    "    multi_output_model = MultiOutputRegressor(model)\n",
    "    grid_search = GridSearchCV(multi_output_model, param_grid, cv=5, scoring='neg_mean_squared_error', n_jobs=-1)\n",
    "    grid_search.fit(X_train, y_train)\n",
    "    if grid_search.best_score_ < best_score:\n",
    "        best_score = grid_search.best_score_\n",
    "        best_model = grid_search.best_estimator_"
   ]
  },
  {
   "cell_type": "code",
   "execution_count": 10,
   "id": "32ee880d-f2d6-4a79-b1dd-b8d1ddaff33b",
   "metadata": {},
   "outputs": [
    {
     "name": "stdout",
     "output_type": "stream",
     "text": [
      "Best Model: MultiOutputRegressor(estimator=RandomForestRegressor(max_depth=10,\n",
      "                                                     min_samples_split=7,\n",
      "                                                     n_estimators=200,\n",
      "                                                     random_state=42))\n",
      "Training MSE: 0.04558638580698134\n",
      "Testing MSE: 0.06457279701703482\n"
     ]
    }
   ],
   "source": [
    "y_train_pred = best_model.predict(X_train)\n",
    "y_test_pred = best_model.predict(X_test)\n",
    "\n",
    "train_mse = mean_squared_error(y_train, y_train_pred)\n",
    "test_mse = mean_squared_error(y_test, y_test_pred)\n",
    "\n",
    "print(f'Best Model: {best_model}')\n",
    "print(f'Training MSE: {train_mse}')\n",
    "print(f'Testing MSE: {test_mse}')"
   ]
  },
  {
   "cell_type": "code",
   "execution_count": 11,
   "id": "9c336714-e6aa-479e-bea8-9e85be1c96e3",
   "metadata": {},
   "outputs": [
    {
     "data": {
      "image/png": "[encoded data removed]",
      "text/plain": [
       "<Figure size 640x480 with 1 Axes>"
      ]
     },
     "metadata": {},
     "output_type": "display_data"
    }
   ],
   "source": [
    "cv_results = cross_val_score(best_model, X_train, y_train, cv=5, scoring='neg_mean_squared_error')\n",
    "cv_mean = -cv_results.mean()\n",
    "\n",
    "plt.plot(range(len(cv_results)), -cv_results, 'r', label='Cross-validation loss')\n",
    "plt.axhline(cv_mean, color='b', linestyle='--', label=f'Mean CV loss: {cv_mean:.4f}')\n",
    "plt.title('Cross-validation loss')\n",
    "plt.xlabel('Fold')\n",
    "plt.ylabel('Loss')\n",
    "plt.legend()\n",
    "plt.show()"
   ]
  },
  {
   "cell_type": "code",
   "execution_count": 24,
   "id": "3a9d956f-7398-44d4-a2f7-7234b47b0f7a",
   "metadata": {},
   "outputs": [
    {
     "data": {
      "text/plain": [
       "['best_model.pkl']"
      ]
     },
     "execution_count": 24,
     "metadata": {},
     "output_type": "execute_result"
    }
   ],
   "source": [
    "import joblib\n",
    "joblib.dump(best_model, 'best_model.pkl')\n"
   ]
  },
  {
   "cell_type": "code",
   "execution_count": 25,
   "id": "a26f8725-b4eb-4607-adde-596a7f63580f",
   "metadata": {},
   "outputs": [
    {
     "name": "stdout",
     "output_type": "stream",
     "text": [
      "Predicted values for Feature3=0.6957890011388101: [[0.49680177 0.38926703 0.44937163]]\n"
     ]
    },
    {
     "name": "stderr",
     "output_type": "stream",
     "text": [
      "C:\\Users\\sandy\\lib\\site-packages\\sklearn\\base.py:493: UserWarning: X does not have valid feature names, but PolynomialFeatures was fitted with feature names\n",
      "  warnings.warn(\n"
     ]
    }
   ],
   "source": [
    "def predict_feature3(feature3_value):\n",
    "    # Load the pretrained model\n",
    "    model = joblib.load('best_model.pkl')\n",
    "    \n",
    "    # Transform the input feature\n",
    "    feature3_poly = poly.transform([[feature3_value]])\n",
    "    \n",
    "    # Predict using the model\n",
    "    prediction = model.predict(feature3_poly)\n",
    "    \n",
    "    return prediction\n",
    "\n",
    "# Example usage\n",
    "feature3_input = \t0.6957890011388101\n",
    "predicted_values = predict_feature3(feature3_input)\n",
    "print(f'Predicted values for Feature3={feature3_input}: {predicted_values}')"
   ]
  }
 ],
 "metadata": {
  "kernelspec": {
   "display_name": "Python 3 (ipykernel)",
   "language": "python",
   "name": "python3"
  },
  "language_info": {
   "codemirror_mode": {
    "name": "ipython",
    "version": 3
   },
   "file_extension": ".py",
   "mimetype": "text/x-python",
   "name": "python",
   "nbconvert_exporter": "python",
   "pygments_lexer": "ipython3",
   "version": "3.11.2"
  }
 },
 "nbformat": 4,
 "nbformat_minor": 5
}
